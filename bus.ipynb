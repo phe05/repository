{
  "nbformat": 4,
  "nbformat_minor": 0,
  "metadata": {
    "colab": {
      "provenance": [],
      "authorship_tag": "ABX9TyOL29Dj4xdfsL7ntincCsuL",
      "include_colab_link": true
    },
    "kernelspec": {
      "name": "python3",
      "display_name": "Python 3"
    },
    "language_info": {
      "name": "python"
    }
  },
  "cells": [
    {
      "cell_type": "markdown",
      "metadata": {
        "id": "view-in-github",
        "colab_type": "text"
      },
      "source": [
        "<a href=\"https://colab.research.google.com/github/phe05/repository/blob/main/bus.ipynb\" target=\"_parent\"><img src=\"https://colab.research.google.com/assets/colab-badge.svg\" alt=\"Open In Colab\"/></a>"
      ]
    },
    {
      "cell_type": "code",
      "execution_count": 1,
      "metadata": {
        "colab": {
          "base_uri": "https://localhost:8080/"
        },
        "id": "usiujurBABj6",
        "outputId": "ca4e6ba1-ad38-415d-eff3-89ef3c313d29"
      },
      "outputs": [
        {
          "output_type": "stream",
          "name": "stdout",
          "text": [
            "<?xml version=\"1.0\" encoding=\"UTF-8\" standalone=\"yes\"?><response><comMsgHeader/><msgHeader><queryTime>2024-03-14 20:25:06.386</queryTime><resultCode>0</resultCode><resultMessage>정상적으로 처리되었습니다.</resultMessage></msgHeader><msgBody><busLocationList><endBus>0</endBus><lowPlate>0</lowPlate><plateNo>경기78아8479</plateNo><plateType>3</plateType><remainSeatCnt>40</remainSeatCnt><routeId>200000149</routeId><stationId>277103204</stationId><stationSeq>37</stationSeq></busLocationList><busLocationList><endBus>0</endBus><lowPlate>0</lowPlate><plateNo>경기76아4505</plateNo><plateType>3</plateType><remainSeatCnt>38</remainSeatCnt><routeId>200000149</routeId><stationId>277103159</stationId><stationSeq>25</stationSeq></busLocationList><busLocationList><endBus>0</endBus><lowPlate>0</lowPlate><plateNo>경기76아4542</plateNo><plateType>4</plateType><remainSeatCnt>28</remainSeatCnt><routeId>200000149</routeId><stationId>277104645</stationId><stationSeq>44</stationSeq></busLocationList><busLocationList><endBus>0</endBus><lowPlate>0</lowPlate><plateNo>경기76아4549</plateNo><plateType>4</plateType><remainSeatCnt>49</remainSeatCnt><routeId>200000149</routeId><stationId>119000302</stationId><stationSeq>33</stationSeq></busLocationList><busLocationList><endBus>0</endBus><lowPlate>0</lowPlate><plateNo>경기76아4550</plateNo><plateType>4</plateType><remainSeatCnt>52</remainSeatCnt><routeId>200000149</routeId><stationId>233000782</stationId><stationSeq>18</stationSeq></busLocationList><busLocationList><endBus>0</endBus><lowPlate>0</lowPlate><plateNo>경기76아4543</plateNo><plateType>4</plateType><remainSeatCnt>69</remainSeatCnt><routeId>200000149</routeId><stationId>233002041</stationId><stationSeq>5</stationSeq></busLocationList><busLocationList><endBus>0</endBus><lowPlate>0</lowPlate><plateNo>경기76아4541</plateNo><plateType>4</plateType><remainSeatCnt>15</remainSeatCnt><routeId>200000149</routeId><stationId>233000592</stationId><stationSeq>51</stationSeq></busLocationList><busLocationList><endBus>0</endBus><lowPlate>0</lowPlate><plateNo>경기76아4548</plateNo><plateType>4</plateType><remainSeatCnt>59</remainSeatCnt><routeId>200000149</routeId><stationId>277103202</stationId><stationSeq>38</stationSeq></busLocationList><busLocationList><endBus>0</endBus><lowPlate>0</lowPlate><plateNo>경기76아4545</plateNo><plateType>4</plateType><remainSeatCnt>59</remainSeatCnt><routeId>200000149</routeId><stationId>226000038</stationId><stationSeq>42</stationSeq></busLocationList></msgBody></response>\n"
          ]
        }
      ],
      "source": [
        "import requests\n",
        "url='http://openapi.gbis.go.kr/ws/rest/buslocationservice?serviceKey=1234567890&routeId=200000149'\n",
        "r = requests.get(url)\n",
        "print(r.text)"
      ]
    }
  ]
}