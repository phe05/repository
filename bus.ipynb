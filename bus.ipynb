{
  "nbformat": 4,
  "nbformat_minor": 0,
  "metadata": {
    "colab": {
      "provenance": [],
      "authorship_tag": "ABX9TyP/DQ3vbiO0d5NKMIe7kSi8",
      "include_colab_link": true
    },
    "kernelspec": {
      "name": "python3",
      "display_name": "Python 3"
    },
    "language_info": {
      "name": "python"
    }
  },
  "cells": [
    {
      "cell_type": "markdown",
      "metadata": {
        "id": "view-in-github",
        "colab_type": "text"
      },
      "source": [
        "<a href=\"https://colab.research.google.com/github/phe05/repository/blob/main/bus.ipynb\" target=\"_parent\"><img src=\"https://colab.research.google.com/assets/colab-badge.svg\" alt=\"Open In Colab\"/></a>"
      ]
    },
    {
      "cell_type": "code",
      "execution_count": 1,
      "metadata": {
        "colab": {
          "base_uri": "https://localhost:8080/"
        },
        "id": "usiujurBABj6",
        "outputId": "de5ad3c3-8e1b-4be8-bcc0-909becc90a43"
      },
      "outputs": [
        {
          "output_type": "stream",
          "name": "stdout",
          "text": [
            "<?xml version=\"1.0\" encoding=\"UTF-8\" standalone=\"yes\"?><response><comMsgHeader/><msgHeader><queryTime>2024-03-18 11:17:15.912</queryTime><resultCode>0</resultCode><resultMessage>정상적으로 처리되었습니다.</resultMessage></msgHeader><msgBody><busLocationList><endBus>0</endBus><lowPlate>0</lowPlate><plateNo>경기76아4505</plateNo><plateType>3</plateType><remainSeatCnt>49</remainSeatCnt><routeId>200000149</routeId><stationId>121001315</stationId><stationSeq>31</stationSeq></busLocationList><busLocationList><endBus>0</endBus><lowPlate>0</lowPlate><plateNo>경기76아4549</plateNo><plateType>4</plateType><remainSeatCnt>42</remainSeatCnt><routeId>200000149</routeId><stationId>226000038</stationId><stationSeq>42</stationSeq></busLocationList><busLocationList><endBus>0</endBus><lowPlate>0</lowPlate><plateNo>경기76아4543</plateNo><plateType>4</plateType><remainSeatCnt>50</remainSeatCnt><routeId>200000149</routeId><stationId>233001457</stationId><stationSeq>11</stationSeq></busLocationList><busLocationList><endBus>0</endBus><lowPlate>0</lowPlate><plateNo>경기76아4548</plateNo><plateType>4</plateType><remainSeatCnt>48</remainSeatCnt><routeId>200000149</routeId><stationId>233000589</stationId><stationSeq>54</stationSeq></busLocationList><busLocationList><endBus>0</endBus><lowPlate>0</lowPlate><plateNo>경기76아4550</plateNo><plateType>4</plateType><remainSeatCnt>42</remainSeatCnt><routeId>200000149</routeId><stationId>277103317</stationId><stationSeq>21</stationSeq></busLocationList></msgBody></response>\n"
          ]
        }
      ],
      "source": [
        "import requests\n",
        "url='http://openapi.gbis.go.kr/ws/rest/buslocationservice?serviceKey=1234567890&routeId=200000149'\n",
        "r = requests.get(url)\n",
        "print(r.text)"
      ]
    },
    {
      "cell_type": "code",
      "source": [
        "from bs4 import BeautifulSoup\n",
        "\n",
        "soup = BeautifulSoup(r.text, features=\"xml\")"
      ],
      "metadata": {
        "id": "H7x0quOZWL4c"
      },
      "execution_count": 2,
      "outputs": []
    },
    {
      "cell_type": "code",
      "source": [
        "soup.find_all('stationId')"
      ],
      "metadata": {
        "id": "5myGd4W6WM16",
        "outputId": "ff2c4ab9-2fc7-4168-9d46-35ed992f9aa8",
        "colab": {
          "base_uri": "https://localhost:8080/"
        }
      },
      "execution_count": 3,
      "outputs": [
        {
          "output_type": "execute_result",
          "data": {
            "text/plain": [
              "[<stationId>121001315</stationId>,\n",
              " <stationId>226000038</stationId>,\n",
              " <stationId>233001457</stationId>,\n",
              " <stationId>233000589</stationId>,\n",
              " <stationId>277103317</stationId>]"
            ]
          },
          "metadata": {},
          "execution_count": 3
        }
      ]
    }
  ]
}